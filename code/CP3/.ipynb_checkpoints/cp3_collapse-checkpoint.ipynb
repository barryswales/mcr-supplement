{
 "cells": [
  {
   "cell_type": "code",
   "execution_count": 1,
   "id": "b34fa3dc-d90e-4ca3-8faa-f8671c5c688d",
   "metadata": {},
   "outputs": [
    {
     "name": "stdout",
     "output_type": "stream",
     "text": [
      "t\tmax(p)\n",
      "0.0\t0.440\n",
      "0.1\t0.403\n",
      "0.2\t0.378\n",
      "0.7\t0.357\n",
      "0.8\t0.424\n",
      "0.9\t0.330\n",
      "1.0\t0.329\n",
      "1.1\t0.358\n",
      "1.2\t0.496\n",
      "1.3\t0.356\n",
      "1.4\t0.509  <-- crossed threshold!\n"
     ]
    }
   ],
   "source": [
    "# Quick demo - Show everything works instantly\n",
    "\n",
    "import numpy as np\n",
    "\n",
    "rng = np.random.default_rng(123)\n",
    "\n",
    "# Parameters—make collapse easy\n",
    "threshold = 0.5      # low so we can SEE it cross\n",
    "mu        = 50.0     # strong drift\n",
    "kappa     = 1.0      # strong noise\n",
    "dt        = 0.05     # big time step so changes are visible\n",
    "t_max     = 5.0\n",
    "\n",
    "def entropy_gradient(p):\n",
    "    return np.log(p + 1e-12) + 1\n",
    "\n",
    "# initialise state\n",
    "psi = rng.normal(size=4) + 1j*rng.normal(size=4)\n",
    "p   = np.abs(psi)**2\n",
    "p  /= p.sum()\n",
    "t=0.0\n",
    "\n",
    "print(\"t\\tmax(p)\")\n",
    "while t < t_max:\n",
    "    if t % 0.1 < 1e-9:        # print every 0.1 s\n",
    "        print(f\"{t:.1f}\\t{p.max():.3f}\")\n",
    "    grad  = entropy_gradient(p)\n",
    "    drift = -mu * p * grad\n",
    "    noise = np.sqrt(kappa * dt) * rng.normal(size=4)   # ADDITIVE noise for demo\n",
    "    p     = p + drift*dt + noise\n",
    "    p     = np.clip(p, 1e-12, None)\n",
    "    p    /= p.sum()\n",
    "    t    += dt\n",
    "    if p.max() >= threshold:\n",
    "        print(f\"{t:.1f}\\t{p.max():.3f}  <-- crossed threshold!\")\n",
    "        break\n",
    "else:\n",
    "    print(\"Reached t_max without crossing.\")\n"
   ]
  },
  {
   "cell_type": "code",
   "execution_count": null,
   "id": "c46f47f9-89d1-4c3a-b8a4-6c41ada91539",
   "metadata": {},
   "outputs": [],
   "source": [
    "# True cosmology parameters - Shows why realistic collapses are extremely rare\t\n",
    "\n",
    "import numpy as np, matplotlib.pyplot as plt\n",
    "\n",
    "rng = np.random.default_rng(42)\n",
    "\n",
    "n_trajectories = 2000\n",
    "threshold      = 0.9\n",
    "mu             = 5.0\n",
    "kappa          = 0.1\n",
    "dt             = 0.01\n",
    "t_max          = 100\n",
    "\n",
    "def entropy_gradient(p):\n",
    "    return np.log(p + 1e-12) + 1\n",
    "\n",
    "collapse_times=[]\n",
    "for i in range(n_trajectories):\n",
    "    psi = rng.normal(size=4) + 1j*rng.normal(size=4)\n",
    "    p   = np.abs(psi)**2; p/=p.sum()\n",
    "    t=0\n",
    "    while t<t_max:\n",
    "        drift = -mu*p*entropy_gradient(p)\n",
    "        noise = np.sqrt(kappa*dt)*rng.normal(size=4)*p   # additive for now\n",
    "        p     = np.clip(p+drift*dt+noise,1e-12,None)\n",
    "        p    /= p.sum()\n",
    "        t+=dt\n",
    "        if p.max()>=threshold:\n",
    "            collapse_times.append(t)\n",
    "            break\n",
    "    else:\n",
    "        collapse_times.append(t_max)\n",
    "\n",
    "print(\"Recorded:\", len(collapse_times), \"events; first 5:\", collapse_times[:5])\n",
    "plt.hist(collapse_times, bins=30, density=True, color='skyblue', edgecolor='k')\n",
    "plt.xlabel('Collapse time'); plt.ylabel('Density')\n",
    "plt.title('Debug histogram (easy parameters)')\n",
    "plt.show()\n"
   ]
  },
  {
   "cell_type": "code",
   "execution_count": 2,
   "id": "6178c532-1cc7-4af8-b14a-0cfa074e26d3",
   "metadata": {},
   "outputs": [
    {
     "name": "stdout",
     "output_type": "stream",
     "text": [
      "Recorded: 2000 events; first 5: [5.0, 0.01, 5.0, 5.0, 5.0]\n"
     ]
    },
    {
     "data": {
      "image/png": "[encoded data removed]",
      "text/plain": [
       "<Figure size 640x480 with 1 Axes>"
      ]
     },
     "metadata": {},
     "output_type": "display_data"
    }
   ],
   "source": [
    "# Modal‑curvature physics illustration - Keeps multiplicative noise; still finishes in ≈60 s\n",
    "\n",
    "import numpy as np, matplotlib.pyplot as plt\n",
    "\n",
    "rng = np.random.default_rng(42)\n",
    "\n",
    "n_trajectories = 2000\n",
    "threshold      = 0.5\n",
    "mu             = 50.0\n",
    "kappa          = 1.0\n",
    "dt             = 0.01\n",
    "t_max          = 5.0\n",
    "\n",
    "def entropy_gradient(p):\n",
    "    return np.log(p + 1e-12) + 1\n",
    "\n",
    "collapse_times=[]\n",
    "for i in range(n_trajectories):\n",
    "    psi = rng.normal(size=4) + 1j*rng.normal(size=4)\n",
    "    p   = np.abs(psi)**2; p/=p.sum()\n",
    "    t=0\n",
    "    while t<t_max:\n",
    "        drift = -mu*p*entropy_gradient(p)\n",
    "        noise = np.sqrt(kappa*dt)*rng.normal(size=4)*p   # additive for now\n",
    "        p     = np.clip(p+drift*dt+noise,1e-12,None)\n",
    "        p    /= p.sum()\n",
    "        t+=dt\n",
    "        if p.max()>=threshold:\n",
    "            collapse_times.append(t)\n",
    "            break\n",
    "    else:\n",
    "        collapse_times.append(t_max)\n",
    "\n",
    "print(\"Recorded:\", len(collapse_times), \"events; first 5:\", collapse_times[:5])\n",
    "plt.hist(collapse_times, bins=30, density=True, color='skyblue', edgecolor='k')\n",
    "plt.xlabel('Collapse time'); plt.ylabel('Density')\n",
    "plt.title('Debug histogram (easy parameters)')\n",
    "plt.show()\n"
   ]
  },
  {
   "cell_type": "code",
   "execution_count": null,
   "id": "948bb32e-48cd-43ee-afa2-cd5ecf3eb295",
   "metadata": {},
   "outputs": [],
   "source": []
  }
 ],
 "metadata": {
  "kernelspec": {
   "display_name": "Python 3 (ipykernel)",
   "language": "python",
   "name": "python3"
  },
  "language_info": {
   "codemirror_mode": {
    "name": "ipython",
    "version": 3
   },
   "file_extension": ".py",
   "mimetype": "text/x-python",
   "name": "python",
   "nbconvert_exporter": "python",
   "pygments_lexer": "ipython3",
   "version": "3.11.12"
  }
 },
 "nbformat": 4,
 "nbformat_minor": 5
}
